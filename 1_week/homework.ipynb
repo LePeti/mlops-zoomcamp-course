{
 "cells": [
  {
   "cell_type": "code",
   "execution_count": 1,
   "id": "f91465b7-8e61-41b7-9d09-8604a33b292d",
   "metadata": {},
   "outputs": [],
   "source": [
    "import pandas as pd\n",
    "import sklearn"
   ]
  },
  {
   "cell_type": "code",
   "execution_count": 2,
   "id": "3e513c0c-68ff-4153-b157-099ecd3f24a7",
   "metadata": {},
   "outputs": [
    {
     "name": "stdout",
     "output_type": "stream",
     "text": [
      "Python 3.12.1\n"
     ]
    }
   ],
   "source": [
    "!python -V"
   ]
  },
  {
   "cell_type": "code",
   "execution_count": 3,
   "id": "88cde827",
   "metadata": {},
   "outputs": [],
   "source": [
    "DATA_PATH_JAN = \"1_week/data/2022_green_taxi_jan.csv\"\n",
    "DATA_PATH_FEB = \"1_week/data/2022_green_taxi_feb.csv\""
   ]
  },
  {
   "cell_type": "code",
   "execution_count": 4,
   "id": "0d2d79da-c815-4e2a-a1a9-c40b1f13f21a",
   "metadata": {},
   "outputs": [],
   "source": [
    "# 2022 Jan\n",
    "url_jan = 'https://d37ci6vzurychx.cloudfront.net/trip-data/green_tripdata_2021-01.parquet'\n",
    "# 2022 Feb\n",
    "url_feb = 'https://d37ci6vzurychx.cloudfront.net/trip-data/green_tripdata_2021-02.parquet'\n",
    "df_jan = pd.read_parquet(url_jan, engine='pyarrow')\n",
    "df_feb = pd.read_parquet(url_feb, engine='pyarrow')"
   ]
  },
  {
   "cell_type": "code",
   "execution_count": 5,
   "id": "34a0fd0b",
   "metadata": {},
   "outputs": [],
   "source": [
    "df_jan.to_csv(DATA_PATH_JAN)\n",
    "df_feb.to_csv(DATA_PATH_FEB)"
   ]
  },
  {
   "cell_type": "code",
   "execution_count": 6,
   "id": "46925a1f",
   "metadata": {},
   "outputs": [
    {
     "name": "stderr",
     "output_type": "stream",
     "text": [
      "/tmp/ipykernel_2178/519503372.py:1: DtypeWarning: Columns (4) have mixed types. Specify dtype option on import or set low_memory=False.\n",
      "  df = pd.read_csv(DATA_PATH_JAN)\n"
     ]
    }
   ],
   "source": [
    "df = pd.read_csv(DATA_PATH_JAN)"
   ]
  },
  {
   "cell_type": "code",
   "execution_count": 7,
   "id": "d25a911b",
   "metadata": {},
   "outputs": [],
   "source": [
    "df.loc[:, \"lpep_pickup_datetime\"] = pd.to_datetime(df.lpep_pickup_datetime)\n",
    "df.loc[:, \"lpep_dropoff_datetime\"] = pd.to_datetime(df.lpep_dropoff_datetime)"
   ]
  },
  {
   "cell_type": "code",
   "execution_count": 8,
   "id": "8d9cf8f6",
   "metadata": {},
   "outputs": [],
   "source": [
    "df[\"duration\"] = df.lpep_dropoff_datetime - df.lpep_pickup_datetime"
   ]
  },
  {
   "cell_type": "code",
   "execution_count": null,
   "id": "dd53d664",
   "metadata": {},
   "outputs": [],
   "source": []
  }
 ],
 "metadata": {
  "kernelspec": {
   "display_name": "Python 3",
   "language": "python",
   "name": "python3"
  },
  "language_info": {
   "codemirror_mode": {
    "name": "ipython",
    "version": 3
   },
   "file_extension": ".py",
   "mimetype": "text/x-python",
   "name": "python",
   "nbconvert_exporter": "python",
   "pygments_lexer": "ipython3",
   "version": "3.12.1"
  }
 },
 "nbformat": 4,
 "nbformat_minor": 5
}
